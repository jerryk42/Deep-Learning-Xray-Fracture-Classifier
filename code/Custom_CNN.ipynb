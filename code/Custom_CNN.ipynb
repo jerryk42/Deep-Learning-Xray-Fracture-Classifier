{
  "nbformat": 4,
  "nbformat_minor": 0,
  "metadata": {
    "colab": {
      "provenance": [],
      "gpuType": "T4",
      "authorship_tag": "ABX9TyOO99/XIwuiEFevFLLnE7Pe"
    },
    "kernelspec": {
      "name": "python3",
      "display_name": "Python 3"
    },
    "language_info": {
      "name": "python"
    },
    "accelerator": "GPU"
  },
  "cells": [
    {
      "cell_type": "markdown",
      "source": [
        "# Pre-Processing"
      ],
      "metadata": {
        "id": "uLBIlE1-Rcr0"
      }
    },
    {
      "cell_type": "markdown",
      "source": [
        "## Mount and Unzip in colab"
      ],
      "metadata": {
        "id": "1KoOhiHZQrmg"
      }
    },
    {
      "cell_type": "code",
      "execution_count": null,
      "metadata": {
        "id": "phWooWjhG823",
        "colab": {
          "base_uri": "https://localhost:8080/"
        },
        "outputId": "4458355e-4ec5-4d56-ed34-c8ad14adf531"
      },
      "outputs": [
        {
          "output_type": "stream",
          "name": "stdout",
          "text": [
            "Mounted at /content/drive\n"
          ]
        }
      ],
      "source": [
        "from google.colab import drive\n",
        "drive.mount('/content/drive')\n"
      ]
    },
    {
      "cell_type": "code",
      "source": [
        "!unzip -q \"/content/drive/MyDrive/AUEB/MURA-v1.1.zip\" -d /content/\n"
      ],
      "metadata": {
        "id": "UlaDi7qdQlAB"
      },
      "execution_count": null,
      "outputs": []
    },
    {
      "cell_type": "markdown",
      "source": [
        "## Inspect CSV files\n"
      ],
      "metadata": {
        "id": "4VRYES2VQoDY"
      }
    },
    {
      "cell_type": "code",
      "source": [
        "import pandas as pd\n",
        "\n",
        "df = pd.read_csv('/content/MURA-v1.1/train_image_paths.csv')\n",
        "print(df.head())\n"
      ],
      "metadata": {
        "id": "lbe9v594Qnch",
        "colab": {
          "base_uri": "https://localhost:8080/"
        },
        "outputId": "76091e7e-8255-40af-9591-44c533da48ab"
      },
      "execution_count": null,
      "outputs": [
        {
          "output_type": "stream",
          "name": "stdout",
          "text": [
            "  MURA-v1.1/train/XR_SHOULDER/patient00001/study1_positive/image1.png\n",
            "0  MURA-v1.1/train/XR_SHOULDER/patient00001/study...                 \n",
            "1  MURA-v1.1/train/XR_SHOULDER/patient00001/study...                 \n",
            "2  MURA-v1.1/train/XR_SHOULDER/patient00002/study...                 \n",
            "3  MURA-v1.1/train/XR_SHOULDER/patient00002/study...                 \n",
            "4  MURA-v1.1/train/XR_SHOULDER/patient00002/study...                 \n"
          ]
        }
      ]
    },
    {
      "cell_type": "markdown",
      "source": [
        "## Prepare the Full DataFrame"
      ],
      "metadata": {
        "id": "LWOmYp7YQx-A"
      }
    },
    {
      "cell_type": "code",
      "source": [
        "\n",
        "df_train = pd.read_csv('/content/MURA-v1.1/train_image_paths.csv')\n",
        "print(df_train.columns)\n"
      ],
      "metadata": {
        "colab": {
          "base_uri": "https://localhost:8080/"
        },
        "id": "3MPrAVjDbLW7",
        "outputId": "b8ba0b99-9805-4d9f-da3a-215c1e4218e9"
      },
      "execution_count": null,
      "outputs": [
        {
          "output_type": "stream",
          "name": "stdout",
          "text": [
            "Index(['MURA-v1.1/train/XR_SHOULDER/patient00001/study1_positive/image1.png'], dtype='object')\n"
          ]
        }
      ]
    },
    {
      "cell_type": "code",
      "source": [
        "import pandas as pd\n",
        "import os\n",
        "\n",
        "df_train = pd.read_csv('/content/MURA-v1.1/train_image_paths.csv', header=None)\n",
        "df_train.columns = ['image_path']\n",
        "df_train['path'] = df_train['image_path'].apply(lambda x: os.path.join('/content', x))\n",
        "df_train['label'] = df_train['image_path'].apply(lambda x: 1 if 'positive' in x else 0)\n",
        "df_train['body_part'] = df_train['image_path'].apply(lambda x: x.split('/')[2])  # e.g., 'XR_SHOULDER'\n"
      ],
      "metadata": {
        "id": "S0aCNYrvQnaQ"
      },
      "execution_count": null,
      "outputs": []
    },
    {
      "cell_type": "code",
      "source": [
        "from sklearn.model_selection import train_test_split\n",
        "\n",
        "# Create a stratification key combining body part + label\n",
        "df_train['stratify_group'] = df_train['body_part'] + \"_\" + df_train['label'].astype(str)\n",
        "\n",
        "# Stratified 80/20 split\n",
        "df_train_final, df_val_final = train_test_split(\n",
        "    df_train,\n",
        "    test_size=0.2,\n",
        "    random_state=42,\n",
        "    stratify=df_train['stratify_group']\n",
        ")"
      ],
      "metadata": {
        "id": "pOa1Y9ggR_XH"
      },
      "execution_count": null,
      "outputs": []
    },
    {
      "cell_type": "code",
      "source": [
        "\n",
        "# Dropping the helper column\n",
        "df_train_final = df_train_final.drop(columns=['stratify_group'])\n",
        "df_val_final = df_val_final.drop(columns=['stratify_group'])"
      ],
      "metadata": {
        "id": "OfULCO_aSBkP"
      },
      "execution_count": null,
      "outputs": []
    },
    {
      "cell_type": "code",
      "source": [
        "df_test = pd.read_csv('/content/MURA-v1.1/valid_image_paths.csv', header=None)\n",
        "df_test.columns = ['image_path']\n",
        "df_test['path'] = df_test['image_path'].apply(lambda x: os.path.join('/content', x))\n",
        "df_test['label'] = df_test['image_path'].apply(lambda x: 1 if 'positive' in x else 0)\n",
        "df_test['body_part'] = df_test['image_path'].apply(lambda x: x.split('/')[2])  # e.g., XR_WRIST\n"
      ],
      "metadata": {
        "id": "w74fmyciQnYI"
      },
      "execution_count": null,
      "outputs": []
    },
    {
      "cell_type": "code",
      "source": [
        "# Encode body_part as part_idx for conditioning\n",
        "body_parts = sorted(df_train_final['body_part'].unique())  # Ensure consistent order\n",
        "part_to_index = {part: idx for idx, part in enumerate(body_parts)}\n",
        "\n",
        "for df in [df_train_final, df_val_final, df_test]:\n",
        "    df['part_idx'] = df['body_part'].map(part_to_index)\n"
      ],
      "metadata": {
        "id": "RaBy1vdsvGn_"
      },
      "execution_count": null,
      "outputs": []
    },
    {
      "cell_type": "code",
      "source": [
        "# Distribution and Sanity Check\n",
        "\n",
        "print(\"Training set:\")\n",
        "print(df_train_final['body_part'].value_counts(normalize=True))\n",
        "\n",
        "print(\"\\nValidation set:\")\n",
        "print(df_val_final['body_part'].value_counts(normalize=True))\n"
      ],
      "metadata": {
        "id": "L9YI3eFKSGYH",
        "colab": {
          "base_uri": "https://localhost:8080/"
        },
        "outputId": "777f5765-0314-4c61-bc7d-6ba17aa1d66b"
      },
      "execution_count": null,
      "outputs": [
        {
          "output_type": "stream",
          "name": "stdout",
          "text": [
            "Training set:\n",
            "body_part\n",
            "XR_WRIST       0.264960\n",
            "XR_SHOULDER    0.227637\n",
            "XR_HAND        0.150581\n",
            "XR_FINGER      0.138695\n",
            "XR_ELBOW       0.133974\n",
            "XR_FOREARM     0.049582\n",
            "XR_HUMERUS     0.034572\n",
            "Name: proportion, dtype: float64\n",
            "\n",
            "Validation set:\n",
            "body_part\n",
            "XR_WRIST       0.264874\n",
            "XR_SHOULDER    0.227656\n",
            "XR_HAND        0.150638\n",
            "XR_FINGER      0.138821\n",
            "XR_ELBOW       0.133931\n",
            "XR_FOREARM     0.049579\n",
            "XR_HUMERUS     0.034501\n",
            "Name: proportion, dtype: float64\n"
          ]
        }
      ]
    },
    {
      "cell_type": "markdown",
      "source": [
        "## Dataset and DataLoader"
      ],
      "metadata": {
        "id": "cTiO2r-EQ3XQ"
      }
    },
    {
      "cell_type": "code",
      "source": [
        "from torch.utils.data import Dataset, DataLoader\n",
        "from torchvision import transforms\n",
        "from PIL import Image\n",
        "import torch\n",
        "\n",
        "\n",
        "class MuraDataset(Dataset):\n",
        "    def __init__(self, dataframe, transform=None):\n",
        "        self.df = dataframe.reset_index(drop=True)\n",
        "        self.transform = transform\n",
        "\n",
        "    def __len__(self):\n",
        "        return len(self.df)\n",
        "\n",
        "    def __getitem__(self, idx):\n",
        "        img_path = self.df.loc[idx, 'path']\n",
        "        label = self.df.loc[idx, 'label']\n",
        "        part_idx = self.df.loc[idx, 'part_idx']\n",
        "        image = Image.open(img_path).convert(\"L\")\n",
        "\n",
        "        if self.transform:\n",
        "            image = self.transform(image)\n",
        "\n",
        "        return image, torch.tensor(label, dtype=torch.long), torch.tensor(part_idx, dtype=torch.long)\n",
        "\n",
        "\n"
      ],
      "metadata": {
        "id": "uibKK4zQQnQw"
      },
      "execution_count": null,
      "outputs": []
    },
    {
      "cell_type": "markdown",
      "source": [
        "## Loaders and Transforms\n"
      ],
      "metadata": {
        "id": "P6TxYUbbQ8qA"
      }
    },
    {
      "cell_type": "code",
      "source": [
        "from torchvision import transforms\n",
        "\n",
        "train_transform = transforms.Compose([\n",
        "    transforms.Resize((224, 224)),\n",
        "    transforms.RandomHorizontalFlip(),\n",
        "    transforms.RandomRotation(10),\n",
        "    transforms.RandomResizedCrop(224, scale=(0.9, 1.0)),\n",
        "    transforms.ToTensor(),\n",
        "    transforms.Normalize([0.5], [0.5])  # Grayscale: 1 channel\n",
        "])\n",
        "\n",
        "val_transform = transforms.Compose([\n",
        "    transforms.Resize((224, 224)),\n",
        "    transforms.ToTensor(),\n",
        "    transforms.Normalize([0.5], [0.5])  # Grayscale: 1 channel\n",
        "])\n"
      ],
      "metadata": {
        "id": "tPCRD98sQnVg"
      },
      "execution_count": null,
      "outputs": []
    },
    {
      "cell_type": "code",
      "source": [
        "from torch.utils.data import DataLoader\n",
        "\n",
        "# Train\n",
        "train_dataset = MuraDataset(df_train_final, transform=train_transform)\n",
        "train_loader = DataLoader(train_dataset, batch_size=32, shuffle=True, num_workers=2)\n",
        "\n",
        "# Validation\n",
        "val_dataset = MuraDataset(df_val_final, transform=val_transform)\n",
        "val_loader = DataLoader(val_dataset, batch_size=32, shuffle=False, num_workers=2)\n",
        "\n",
        "# Test\n",
        "test_dataset = MuraDataset(df_test, transform=val_transform)\n",
        "test_loader = DataLoader(test_dataset, batch_size=32, shuffle=False, num_workers=2)\n"
      ],
      "metadata": {
        "id": "3GiVGjyIWMDP"
      },
      "execution_count": null,
      "outputs": []
    },
    {
      "cell_type": "markdown",
      "source": [
        "# Custom CNN"
      ],
      "metadata": {
        "id": "mQgSU0RyZSZb"
      }
    },
    {
      "cell_type": "code",
      "source": [
        "import torch.nn as nn\n",
        "import torch.nn.functional as F\n",
        "\n",
        "class CustomCNNWithPart(nn.Module):\n",
        "    def __init__(self, num_parts):\n",
        "        super(CustomCNNWithPart, self).__init__()\n",
        "\n",
        "        self.conv1 = nn.Conv2d(1, 32, kernel_size=3, padding=1)\n",
        "        self.conv2 = nn.Conv2d(32, 64, kernel_size=3, padding=1)\n",
        "        self.conv3 = nn.Conv2d(64, 128, kernel_size=3, padding=1)\n",
        "        self.pool = nn.MaxPool2d(2, 2)\n",
        "\n",
        "        # Embed body part index (e.g., 7 parts → 16-dim embedding)\n",
        "        self.part_embedding = nn.Embedding(num_parts, 16)\n",
        "\n",
        "        # Dropout + FC\n",
        "        self.dropout = nn.Dropout(0.3)\n",
        "        self.fc1 = nn.Linear(128 * 28 * 28 + 16, 256)\n",
        "        self.fc2 = nn.Linear(256, 2)  # binary classification\n",
        "\n",
        "    def forward(self, x, part_idx):\n",
        "        x = self.pool(F.relu(self.conv1(x)))   # (B, 32, 112, 112)\n",
        "        x = self.pool(F.relu(self.conv2(x)))   # (B, 64, 56, 56)\n",
        "        x = self.pool(F.relu(self.conv3(x)))   # (B, 128, 28, 28)\n",
        "\n",
        "        x = x.view(x.size(0), -1)              # Flatten CNN features\n",
        "        part_feat = self.part_embedding(part_idx)  # Shape: (B, 16)\n",
        "\n",
        "        x = torch.cat([x, part_feat], dim=1)   # Shape: (B, 100352 + 16)\n",
        "        x = self.dropout(F.relu(self.fc1(x)))\n",
        "        x = self.fc2(x)\n",
        "        return x\n"
      ],
      "metadata": {
        "id": "714Pc2M-ZRAj"
      },
      "execution_count": null,
      "outputs": []
    },
    {
      "cell_type": "code",
      "source": [
        "device = torch.device(\"cuda\" if torch.cuda.is_available() else \"cpu\")\n",
        "num_parts = len(part_to_index)\n",
        "model = CustomCNNWithPart(num_parts).to(device)\n"
      ],
      "metadata": {
        "id": "8G9EyusJZQ-T"
      },
      "execution_count": null,
      "outputs": []
    },
    {
      "cell_type": "markdown",
      "source": [
        "## Focal Loss\n"
      ],
      "metadata": {
        "id": "d0eTbDoxT3b7"
      }
    },
    {
      "cell_type": "code",
      "source": [
        "import torch\n",
        "import torch.nn as nn\n",
        "import torch.nn.functional as F\n",
        "\n",
        "class FocalLoss(nn.Module):\n",
        "    def __init__(self, alpha=0.25, gamma=2.0, reduction='mean'):\n",
        "        \"\"\"\n",
        "        alpha: weighting factor for class 1 (abnormal)\n",
        "        gamma: focusing parameter\n",
        "        \"\"\"\n",
        "        super(FocalLoss, self).__init__()\n",
        "        self.alpha = alpha\n",
        "        self.gamma = gamma\n",
        "        self.reduction = reduction\n",
        "\n",
        "    def forward(self, inputs, targets):\n",
        "        ce_loss = F.cross_entropy(inputs, targets, reduction='none')\n",
        "        pt = torch.exp(-ce_loss)  # pt = softmax prob of true class\n",
        "        focal_loss = self.alpha * (1 - pt) ** self.gamma * ce_loss\n",
        "\n",
        "        if self.reduction == 'mean':\n",
        "            return focal_loss.mean()\n",
        "        elif self.reduction == 'sum':\n",
        "            return focal_loss.sum()\n",
        "        else:\n",
        "            return focal_loss\n"
      ],
      "metadata": {
        "id": "1CfKYWPzT5fj"
      },
      "execution_count": null,
      "outputs": []
    },
    {
      "cell_type": "code",
      "source": [
        "import torch.optim as optim\n",
        "\n",
        "criterion = FocalLoss(alpha=0.25, gamma=2.0)\n",
        "optimizer = torch.optim.Adam(filter(lambda p: p.requires_grad, model.parameters()), lr=1e-5, weight_decay=1e-4)\n",
        "scheduler = optim.lr_scheduler.ReduceLROnPlateau(optimizer, mode='min', patience=2, factor=0.5, verbose=True)\n",
        "\n",
        "best_val_loss = float('inf')\n",
        "early_stop_counter = 0\n",
        "early_stop_patience = 5\n"
      ],
      "metadata": {
        "id": "c-bIgOkTZQ7z"
      },
      "execution_count": null,
      "outputs": []
    },
    {
      "cell_type": "markdown",
      "source": [
        "## Training and Validation Loops"
      ],
      "metadata": {
        "id": "hf36ggXuZeEU"
      }
    },
    {
      "cell_type": "code",
      "source": [
        "def train_one_epoch(model, loader, optimizer, criterion):\n",
        "    model.train()\n",
        "    total_loss = 0\n",
        "    correct = 0\n",
        "\n",
        "    for images, labels, part_idxs in loader:\n",
        "        images, labels, part_idxs = images.to(device), labels.to(device), part_idxs.to(device)\n",
        "\n",
        "        optimizer.zero_grad()\n",
        "        outputs = model(images, part_idxs)\n",
        "        loss = criterion(outputs, labels)\n",
        "        loss.backward()\n",
        "        optimizer.step()\n",
        "\n",
        "        total_loss += loss.item()\n",
        "        preds = outputs.argmax(dim=1)\n",
        "        correct += (preds == labels).sum().item()\n",
        "\n",
        "    avg_loss = total_loss / len(loader)\n",
        "    accuracy = correct / len(loader.dataset)\n",
        "    return avg_loss, accuracy\n",
        "\n",
        "\n",
        "def validate(model, loader, criterion):\n",
        "    model.eval()\n",
        "    total_loss = 0\n",
        "    correct = 0\n",
        "\n",
        "    with torch.no_grad():\n",
        "        for images, labels, part_idxs in loader:\n",
        "            images, labels, part_idxs = images.to(device), labels.to(device), part_idxs.to(device)\n",
        "\n",
        "            outputs = model(images, part_idxs)\n",
        "            loss = criterion(outputs, labels)\n",
        "            total_loss += loss.item()\n",
        "            preds = outputs.argmax(dim=1)\n",
        "            correct += (preds == labels).sum().item()\n",
        "\n",
        "    avg_loss = total_loss / len(loader)\n",
        "    accuracy = correct / len(loader.dataset)\n",
        "    return avg_loss, accuracy\n"
      ],
      "metadata": {
        "id": "_OZXxV7sZQ5j"
      },
      "execution_count": null,
      "outputs": []
    },
    {
      "cell_type": "markdown",
      "source": [
        "## Training for a Few Epoch"
      ],
      "metadata": {
        "id": "qtnVj0_CZiXr"
      }
    },
    {
      "cell_type": "code",
      "source": [
        "epochs = 50\n",
        "\n",
        "for epoch in range(epochs):\n",
        "    train_loss, train_acc = train_one_epoch(model, train_loader, optimizer, criterion)\n",
        "    val_loss, val_acc = validate(model, val_loader, criterion)\n",
        "\n",
        "    print(f\"Epoch {epoch+1}/{epochs} | Train Loss: {train_loss:.4f}, Acc: {train_acc:.4f} | Val Loss: {val_loss:.4f}, Acc: {val_acc:.4f}\")\n",
        "\n",
        "    # Step scheduler\n",
        "    scheduler.step(val_loss)\n",
        "\n",
        "    # Early stopping\n",
        "    if val_loss < best_val_loss:\n",
        "        best_val_loss = val_loss\n",
        "        early_stop_counter = 0\n",
        "        torch.save(model.state_dict(), \"best_model.pt\")  # Save best model\n",
        "    else:\n",
        "        early_stop_counter += 1\n",
        "        print(f\"Early stop patience: {early_stop_counter}/{early_stop_patience}\")\n",
        "\n",
        "        if early_stop_counter >= early_stop_patience:\n",
        "            print(\"Early stopping triggered.\")\n",
        "            break\n"
      ],
      "metadata": {
        "colab": {
          "base_uri": "https://localhost:8080/"
        },
        "id": "nvWcUwKoZQ3L",
        "outputId": "af026374-1067-4670-e9f1-ceb95f062fff"
      },
      "execution_count": null,
      "outputs": [
        {
          "output_type": "stream",
          "name": "stdout",
          "text": [
            "Epoch 1/50 | Train Loss: 0.0405, Acc: 0.6193 | Val Loss: 0.0403, Acc: 0.6267\n",
            "Epoch 2/50 | Train Loss: 0.0404, Acc: 0.6242 | Val Loss: 0.0402, Acc: 0.6262\n",
            "Epoch 3/50 | Train Loss: 0.0403, Acc: 0.6282 | Val Loss: 0.0403, Acc: 0.6221\n",
            "Early stop patience: 1/5\n",
            "Epoch 4/50 | Train Loss: 0.0402, Acc: 0.6269 | Val Loss: 0.0399, Acc: 0.6352\n",
            "Epoch 5/50 | Train Loss: 0.0399, Acc: 0.6340 | Val Loss: 0.0397, Acc: 0.6387\n",
            "Epoch 6/50 | Train Loss: 0.0398, Acc: 0.6374 | Val Loss: 0.0399, Acc: 0.6358\n",
            "Early stop patience: 1/5\n",
            "Epoch 7/50 | Train Loss: 0.0397, Acc: 0.6397 | Val Loss: 0.0395, Acc: 0.6452\n",
            "Epoch 8/50 | Train Loss: 0.0395, Acc: 0.6461 | Val Loss: 0.0394, Acc: 0.6424\n",
            "Epoch 9/50 | Train Loss: 0.0394, Acc: 0.6494 | Val Loss: 0.0392, Acc: 0.6512\n",
            "Epoch 10/50 | Train Loss: 0.0393, Acc: 0.6510 | Val Loss: 0.0390, Acc: 0.6584\n",
            "Epoch 11/50 | Train Loss: 0.0392, Acc: 0.6554 | Val Loss: 0.0389, Acc: 0.6509\n",
            "Epoch 12/50 | Train Loss: 0.0390, Acc: 0.6575 | Val Loss: 0.0388, Acc: 0.6554\n",
            "Epoch 13/50 | Train Loss: 0.0389, Acc: 0.6606 | Val Loss: 0.0386, Acc: 0.6581\n",
            "Epoch 14/50 | Train Loss: 0.0388, Acc: 0.6629 | Val Loss: 0.0387, Acc: 0.6595\n",
            "Early stop patience: 1/5\n",
            "Epoch 15/50 | Train Loss: 0.0387, Acc: 0.6670 | Val Loss: 0.0385, Acc: 0.6688\n",
            "Epoch 16/50 | Train Loss: 0.0386, Acc: 0.6640 | Val Loss: 0.0383, Acc: 0.6627\n",
            "Epoch 17/50 | Train Loss: 0.0384, Acc: 0.6688 | Val Loss: 0.0382, Acc: 0.6671\n",
            "Epoch 18/50 | Train Loss: 0.0384, Acc: 0.6703 | Val Loss: 0.0381, Acc: 0.6642\n",
            "Epoch 19/50 | Train Loss: 0.0383, Acc: 0.6706 | Val Loss: 0.0381, Acc: 0.6680\n",
            "Early stop patience: 1/5\n",
            "Epoch 20/50 | Train Loss: 0.0382, Acc: 0.6725 | Val Loss: 0.0383, Acc: 0.6740\n",
            "Early stop patience: 2/5\n",
            "Epoch 21/50 | Train Loss: 0.0381, Acc: 0.6776 | Val Loss: 0.0381, Acc: 0.6665\n",
            "Epoch 22/50 | Train Loss: 0.0380, Acc: 0.6771 | Val Loss: 0.0380, Acc: 0.6691\n",
            "Epoch 23/50 | Train Loss: 0.0380, Acc: 0.6768 | Val Loss: 0.0387, Acc: 0.6550\n",
            "Early stop patience: 1/5\n",
            "Epoch 24/50 | Train Loss: 0.0378, Acc: 0.6805 | Val Loss: 0.0377, Acc: 0.6845\n",
            "Epoch 25/50 | Train Loss: 0.0378, Acc: 0.6790 | Val Loss: 0.0376, Acc: 0.6777\n",
            "Epoch 26/50 | Train Loss: 0.0377, Acc: 0.6823 | Val Loss: 0.0377, Acc: 0.6800\n",
            "Early stop patience: 1/5\n",
            "Epoch 27/50 | Train Loss: 0.0377, Acc: 0.6803 | Val Loss: 0.0376, Acc: 0.6826\n",
            "Epoch 28/50 | Train Loss: 0.0375, Acc: 0.6875 | Val Loss: 0.0375, Acc: 0.6839\n",
            "Epoch 29/50 | Train Loss: 0.0375, Acc: 0.6845 | Val Loss: 0.0379, Acc: 0.6731\n",
            "Early stop patience: 1/5\n",
            "Epoch 30/50 | Train Loss: 0.0374, Acc: 0.6856 | Val Loss: 0.0373, Acc: 0.6808\n",
            "Epoch 31/50 | Train Loss: 0.0373, Acc: 0.6874 | Val Loss: 0.0377, Acc: 0.6675\n",
            "Early stop patience: 1/5\n",
            "Epoch 32/50 | Train Loss: 0.0373, Acc: 0.6891 | Val Loss: 0.0374, Acc: 0.6841\n",
            "Early stop patience: 2/5\n",
            "Epoch 33/50 | Train Loss: 0.0372, Acc: 0.6900 | Val Loss: 0.0371, Acc: 0.6868\n",
            "Epoch 34/50 | Train Loss: 0.0372, Acc: 0.6895 | Val Loss: 0.0370, Acc: 0.6898\n",
            "Epoch 35/50 | Train Loss: 0.0371, Acc: 0.6920 | Val Loss: 0.0371, Acc: 0.6918\n",
            "Early stop patience: 1/5\n",
            "Epoch 36/50 | Train Loss: 0.0371, Acc: 0.6896 | Val Loss: 0.0371, Acc: 0.6892\n",
            "Early stop patience: 2/5\n",
            "Epoch 37/50 | Train Loss: 0.0371, Acc: 0.6895 | Val Loss: 0.0370, Acc: 0.6858\n",
            "Early stop patience: 3/5\n",
            "Epoch 38/50 | Train Loss: 0.0367, Acc: 0.6977 | Val Loss: 0.0376, Acc: 0.6752\n",
            "Early stop patience: 4/5\n",
            "Epoch 39/50 | Train Loss: 0.0366, Acc: 0.6995 | Val Loss: 0.0367, Acc: 0.6960\n",
            "Epoch 40/50 | Train Loss: 0.0366, Acc: 0.6996 | Val Loss: 0.0369, Acc: 0.6883\n",
            "Early stop patience: 1/5\n",
            "Epoch 41/50 | Train Loss: 0.0366, Acc: 0.6973 | Val Loss: 0.0367, Acc: 0.6889\n",
            "Early stop patience: 2/5\n",
            "Epoch 42/50 | Train Loss: 0.0365, Acc: 0.7001 | Val Loss: 0.0368, Acc: 0.6953\n",
            "Early stop patience: 3/5\n",
            "Epoch 43/50 | Train Loss: 0.0364, Acc: 0.7028 | Val Loss: 0.0367, Acc: 0.6963\n",
            "Epoch 44/50 | Train Loss: 0.0362, Acc: 0.7041 | Val Loss: 0.0366, Acc: 0.6948\n",
            "Epoch 45/50 | Train Loss: 0.0362, Acc: 0.7031 | Val Loss: 0.0365, Acc: 0.7010\n",
            "Epoch 46/50 | Train Loss: 0.0363, Acc: 0.7005 | Val Loss: 0.0365, Acc: 0.6995\n",
            "Epoch 47/50 | Train Loss: 0.0362, Acc: 0.7047 | Val Loss: 0.0366, Acc: 0.6997\n",
            "Early stop patience: 1/5\n",
            "Epoch 48/50 | Train Loss: 0.0362, Acc: 0.7042 | Val Loss: 0.0364, Acc: 0.7016\n",
            "Epoch 49/50 | Train Loss: 0.0361, Acc: 0.7043 | Val Loss: 0.0365, Acc: 0.7023\n",
            "Early stop patience: 1/5\n",
            "Epoch 50/50 | Train Loss: 0.0361, Acc: 0.7041 | Val Loss: 0.0367, Acc: 0.6868\n",
            "Early stop patience: 2/5\n"
          ]
        }
      ]
    },
    {
      "cell_type": "markdown",
      "source": [
        "## Final Evaluation on Test Set"
      ],
      "metadata": {
        "id": "x8Y_lLQ4Zoaj"
      }
    },
    {
      "cell_type": "code",
      "source": [
        "from sklearn.metrics import classification_report, roc_auc_score\n",
        "\n",
        "def evaluate_on_test(model, test_loader):\n",
        "    model.eval()\n",
        "    all_labels = []\n",
        "    all_preds = []\n",
        "    all_probs = []\n",
        "\n",
        "    with torch.no_grad():\n",
        "        for images, labels, part_idxs in test_loader:\n",
        "            images = images.to(device)\n",
        "            part_idxs = part_idxs.to(device)\n",
        "            outputs = model(images, part_idxs)\n",
        "\n",
        "            probs = torch.softmax(outputs, dim=1)[:, 1].cpu().numpy()\n",
        "            preds = outputs.argmax(dim=1).cpu().numpy()\n",
        "\n",
        "            all_labels.extend(labels.numpy())\n",
        "            all_preds.extend(preds)\n",
        "            all_probs.extend(probs)\n",
        "\n",
        "    print(\"Classification Report:\")\n",
        "    print(classification_report(all_labels, all_preds, digits=4))\n",
        "\n",
        "    auc_score = roc_auc_score(all_labels, all_probs)\n",
        "    print(f\"ROC AUC Score: {auc_score:.4f}\")\n"
      ],
      "metadata": {
        "id": "VR-5FsK6ZQ0j"
      },
      "execution_count": null,
      "outputs": []
    },
    {
      "cell_type": "markdown",
      "source": [
        "## Run on Test"
      ],
      "metadata": {
        "id": "sQXMWBuUZuBr"
      }
    },
    {
      "cell_type": "code",
      "source": [
        "evaluate_on_test(model, test_loader)\n"
      ],
      "metadata": {
        "colab": {
          "base_uri": "https://localhost:8080/"
        },
        "id": "GhEMlafmZQyE",
        "outputId": "7a53bbf8-893a-4319-da2f-e2e6478a13b7"
      },
      "execution_count": null,
      "outputs": [
        {
          "output_type": "stream",
          "name": "stdout",
          "text": [
            "Classification Report:\n",
            "              precision    recall  f1-score   support\n",
            "\n",
            "           0     0.6511    0.7612    0.7019      1667\n",
            "           1     0.6811    0.5556    0.6120      1530\n",
            "\n",
            "    accuracy                         0.6628      3197\n",
            "   macro avg     0.6661    0.6584    0.6569      3197\n",
            "weighted avg     0.6655    0.6628    0.6588      3197\n",
            "\n",
            "ROC AUC Score: 0.7272\n"
          ]
        }
      ]
    },
    {
      "cell_type": "markdown",
      "source": [
        "# Visuals"
      ],
      "metadata": {
        "id": "zu52gDwMletB"
      }
    },
    {
      "cell_type": "code",
      "source": [
        "import matplotlib.pyplot as plt\n",
        "import seaborn as sns"
      ],
      "metadata": {
        "id": "pt87v3S0Bf1M"
      },
      "execution_count": null,
      "outputs": []
    },
    {
      "cell_type": "code",
      "source": [
        "plt.figure(figsize=(12, 6))\n",
        "sns.countplot(data=df, x='body_part', hue='label', order=df['body_part'].value_counts().index)\n",
        "plt.title('Fracture vs Non-Fracture Images per Body Part')\n",
        "plt.xlabel('Body Part')\n",
        "plt.ylabel('Count')\n",
        "plt.legend(title='Label', labels=['No Fracture', 'Fracture'])\n",
        "plt.xticks(rotation=45)\n",
        "plt.tight_layout()\n",
        "plt.show()\n"
      ],
      "metadata": {
        "colab": {
          "base_uri": "https://localhost:8080/",
          "height": 607
        },
        "id": "NgtbhK3TBfy7",
        "outputId": "fc96b75b-905f-429b-e050-be927473465b"
      },
      "execution_count": null,
      "outputs": [
        {
          "output_type": "display_data",
          "data": {
            "text/plain": [
              "<Figure size 1200x600 with 1 Axes>"
            ],
            "image/png": "[encoded data removed]"
          },
          "metadata": {}
        }
      ]
    },
    {
      "cell_type": "code",
      "source": [
        "print(f\"Train images: {len(df_train_final)}\")\n",
        "print(f\"Validation images: {len(df_val_final)}\")\n",
        "print(f\"Test images: {len(df_test)}\")  # If you made your own test set\n"
      ],
      "metadata": {
        "colab": {
          "base_uri": "https://localhost:8080/"
        },
        "id": "L-XJIqpgBqlm",
        "outputId": "9ceada89-214f-4788-a039-e632f82d403f"
      },
      "execution_count": null,
      "outputs": [
        {
          "output_type": "stream",
          "name": "stdout",
          "text": [
            "Train images: 29446\n",
            "Validation images: 7362\n",
            "Test images: 3197\n"
          ]
        }
      ]
    },
    {
      "cell_type": "code",
      "source": [
        "from graphviz import Digraph\n",
        "\n",
        "def custom_cnn_styled():\n",
        "    dot = Digraph(comment='Custom CNN Architecture')\n",
        "    dot.attr(rankdir='TB', splines='spline', nodesep='0.6', ranksep='0.5')\n",
        "\n",
        "    # INPUTS\n",
        "    dot.node('input', 'Input Image\\n(224×224)', shape='ellipse', style='filled', fillcolor='#DDEEFF')\n",
        "    dot.node('part', 'Body Part Index\\n(int)', shape='ellipse', style='filled', fillcolor='#DDEEFF')\n",
        "\n",
        "    # CONV LAYERS\n",
        "    dot.node('conv1', 'Conv2d(1 → 32)\\n3×3 + MaxPool', shape='box', style='filled', fillcolor='#A3C1DA')\n",
        "    dot.node('conv2', 'Conv2d(32 → 64)\\n3×3 + MaxPool', shape='box', style='filled', fillcolor='#A3C1DA')\n",
        "    dot.node('conv3', 'Conv2d(64 → 128)\\n3×3 + MaxPool', shape='box', style='filled', fillcolor='#A3C1DA')\n",
        "\n",
        "    # EMBEDDING\n",
        "    dot.node('embed', 'Embedding\\n(num_parts → 16)', shape='box', style='filled', fillcolor='#C7E9C0')\n",
        "\n",
        "    # CONCAT\n",
        "    dot.node('concat', 'Concatenate\\n[Flatten + Embedding]', shape='diamond', style='filled', fillcolor='#FBE8A6')\n",
        "\n",
        "    # FC LAYERS\n",
        "    dot.node('fc1', 'Linear(100368 → 256)\\nReLU + Dropout', shape='box', style='filled', fillcolor='#FDD9D9')\n",
        "    dot.node('fc2', 'Linear(256 → 2)\\nFracture Prediction', shape='box', style='filled', fillcolor='#FFCCCC')\n",
        "\n",
        "    # CONNECTIONS\n",
        "    dot.edge('input', 'conv1')\n",
        "    dot.edge('conv1', 'conv2')\n",
        "    dot.edge('conv2', 'conv3')\n",
        "    dot.edge('conv3', 'concat')\n",
        "\n",
        "    dot.edge('part', 'embed')\n",
        "    dot.edge('embed', 'concat')\n",
        "\n",
        "    dot.edge('concat', 'fc1')\n",
        "    dot.edge('fc1', 'fc2')\n",
        "\n",
        "    return dot\n",
        "\n",
        "# Save and display the graph\n",
        "cnn_diagram = custom_cnn_styled()\n",
        "cnn_diagram.render(filename='custom_cnn_architecture', format='png', cleanup=False)\n",
        "cnn_diagram.view()  # Open the image\n",
        "\n",
        "display(cnn_diagram)"
      ],
      "metadata": {
        "colab": {
          "base_uri": "https://localhost:8080/",
          "height": 767
        },
        "id": "Z5iUCF3dBaS0",
        "outputId": "33d8ca89-221f-484b-eff2-2baee65827c7"
      },
      "execution_count": null,
      "outputs": [
        {
          "output_type": "display_data",
          "data": {
            "image/svg+xml": "<?xml version=\"1.0\" encoding=\"UTF-8\" standalone=\"no\"?>\n<!DOCTYPE svg PUBLIC \"-//W3C//DTD SVG 1.1//EN\"\n \"http://www.w3.org/Graphics/SVG/1.1/DTD/svg11.dtd\">\n<!-- Generated by graphviz version 2.43.0 (0)\n -->\n<!-- Title: %3 Pages: 1 -->\n<svg width=\"318pt\" height=\"559pt\"\n viewBox=\"0.00 0.00 317.64 559.48\" xmlns=\"http://www.w3.org/2000/svg\" xmlns:xlink=\"http://www.w3.org/1999/xlink\">\n<g id=\"graph0\" class=\"graph\" transform=\"scale(1 1) rotate(0) translate(4 555.48)\">\n<title>%3</title>\n<polygon fill=\"white\" stroke=\"transparent\" points=\"-4,4 -4,-555.48 313.64,-555.48 313.64,4 -4,4\"/>\n<!-- input -->\n<g id=\"node1\" class=\"node\">\n<title>input</title>\n<ellipse fill=\"#ddeeff\" stroke=\"black\" cx=\"58.69\" cy=\"-524.61\" rx=\"58.88\" ry=\"26.74\"/>\n<text text-anchor=\"middle\" x=\"58.69\" y=\"-528.41\" font-family=\"Times,serif\" font-size=\"14.00\">Input Image</text>\n<text text-anchor=\"middle\" x=\"58.69\" y=\"-513.41\" font-family=\"Times,serif\" font-size=\"14.00\">(224×224)</text>\n</g>\n<!-- conv1 -->\n<g id=\"node3\" class=\"node\">\n<title>conv1</title>\n<polygon fill=\"#a3c1da\" stroke=\"black\" points=\"113.69,-461.74 3.69,-461.74 3.69,-423.74 113.69,-423.74 113.69,-461.74\"/>\n<text text-anchor=\"middle\" x=\"58.69\" y=\"-446.54\" font-family=\"Times,serif\" font-size=\"14.00\">Conv2d(1 → 32)</text>\n<text text-anchor=\"middle\" x=\"58.69\" y=\"-431.54\" font-family=\"Times,serif\" font-size=\"14.00\">3×3 + MaxPool</text>\n</g>\n<!-- input&#45;&gt;conv1 -->\n<g id=\"edge1\" class=\"edge\">\n<title>input&#45;&gt;conv1</title>\n<path fill=\"none\" stroke=\"black\" d=\"M58.69,-497.46C58.69,-489.27 58.69,-480.2 58.69,-471.88\"/>\n<polygon fill=\"black\" stroke=\"black\" points=\"62.19,-471.86 58.69,-461.86 55.19,-471.86 62.19,-471.86\"/>\n</g>\n<!-- part -->\n<g id=\"node2\" class=\"node\">\n<title>part</title>\n<ellipse fill=\"#ddeeff\" stroke=\"black\" cx=\"234.69\" cy=\"-360.87\" rx=\"74.91\" ry=\"26.74\"/>\n<text text-anchor=\"middle\" x=\"234.69\" y=\"-364.67\" font-family=\"Times,serif\" font-size=\"14.00\">Body Part Index</text>\n<text text-anchor=\"middle\" x=\"234.69\" y=\"-349.67\" font-family=\"Times,serif\" font-size=\"14.00\">(int)</text>\n</g>\n<!-- embed -->\n<g id=\"node6\" class=\"node\">\n<title>embed</title>\n<polygon fill=\"#c7e9c0\" stroke=\"black\" points=\"291.19,-298 172.19,-298 172.19,-260 291.19,-260 291.19,-298\"/>\n<text text-anchor=\"middle\" x=\"231.69\" y=\"-282.8\" font-family=\"Times,serif\" font-size=\"14.00\">Embedding</text>\n<text text-anchor=\"middle\" x=\"231.69\" y=\"-267.8\" font-family=\"Times,serif\" font-size=\"14.00\">(num_parts → 16)</text>\n</g>\n<!-- part&#45;&gt;embed -->\n<g id=\"edge5\" class=\"edge\">\n<title>part&#45;&gt;embed</title>\n<path fill=\"none\" stroke=\"black\" d=\"M233.71,-333.72C233.4,-325.53 233.06,-316.46 232.75,-308.14\"/>\n<polygon fill=\"black\" stroke=\"black\" points=\"236.24,-307.99 232.37,-298.12 229.25,-308.25 236.24,-307.99\"/>\n</g>\n<!-- conv2 -->\n<g id=\"node4\" class=\"node\">\n<title>conv2</title>\n<polygon fill=\"#a3c1da\" stroke=\"black\" points=\"117.19,-379.87 0.19,-379.87 0.19,-341.87 117.19,-341.87 117.19,-379.87\"/>\n<text text-anchor=\"middle\" x=\"58.69\" y=\"-364.67\" font-family=\"Times,serif\" font-size=\"14.00\">Conv2d(32 → 64)</text>\n<text text-anchor=\"middle\" x=\"58.69\" y=\"-349.67\" font-family=\"Times,serif\" font-size=\"14.00\">3×3 + MaxPool</text>\n</g>\n<!-- conv1&#45;&gt;conv2 -->\n<g id=\"edge2\" class=\"edge\">\n<title>conv1&#45;&gt;conv2</title>\n<path fill=\"none\" stroke=\"black\" d=\"M58.69,-423.62C58.69,-413.71 58.69,-401.22 58.69,-390.07\"/>\n<polygon fill=\"black\" stroke=\"black\" points=\"62.19,-389.92 58.69,-379.92 55.19,-389.92 62.19,-389.92\"/>\n</g>\n<!-- conv3 -->\n<g id=\"node5\" class=\"node\">\n<title>conv3</title>\n<polygon fill=\"#a3c1da\" stroke=\"black\" points=\"125.69,-298 1.69,-298 1.69,-260 125.69,-260 125.69,-298\"/>\n<text text-anchor=\"middle\" x=\"63.69\" y=\"-282.8\" font-family=\"Times,serif\" font-size=\"14.00\">Conv2d(64 → 128)</text>\n<text text-anchor=\"middle\" x=\"63.69\" y=\"-267.8\" font-family=\"Times,serif\" font-size=\"14.00\">3×3 + MaxPool</text>\n</g>\n<!-- conv2&#45;&gt;conv3 -->\n<g id=\"edge3\" class=\"edge\">\n<title>conv2&#45;&gt;conv3</title>\n<path fill=\"none\" stroke=\"black\" d=\"M59.82,-341.75C60.44,-331.84 61.23,-319.35 61.92,-308.2\"/>\n<polygon fill=\"black\" stroke=\"black\" points=\"65.43,-308.25 62.56,-298.05 58.44,-307.81 65.43,-308.25\"/>\n</g>\n<!-- concat -->\n<g id=\"node7\" class=\"node\">\n<title>concat</title>\n<polygon fill=\"#fbe8a6\" stroke=\"black\" points=\"145.69,-224 3.69,-186 145.69,-148 287.69,-186 145.69,-224\"/>\n<text text-anchor=\"middle\" x=\"145.69\" y=\"-189.8\" font-family=\"Times,serif\" font-size=\"14.00\">Concatenate</text>\n<text text-anchor=\"middle\" x=\"145.69\" y=\"-174.8\" font-family=\"Times,serif\" font-size=\"14.00\">[Flatten + Embedding]</text>\n</g>\n<!-- conv3&#45;&gt;concat -->\n<g id=\"edge4\" class=\"edge\">\n<title>conv3&#45;&gt;concat</title>\n<path fill=\"none\" stroke=\"black\" d=\"M80.28,-259.58C89.43,-249.43 101.12,-236.46 112.09,-224.29\"/>\n<polygon fill=\"black\" stroke=\"black\" points=\"114.7,-226.62 118.79,-216.85 109.5,-221.94 114.7,-226.62\"/>\n</g>\n<!-- embed&#45;&gt;concat -->\n<g id=\"edge6\" class=\"edge\">\n<title>embed&#45;&gt;concat</title>\n<path fill=\"none\" stroke=\"black\" d=\"M214.29,-259.58C204.69,-249.43 192.43,-236.46 180.93,-224.29\"/>\n<polygon fill=\"black\" stroke=\"black\" points=\"183.31,-221.72 173.9,-216.85 178.23,-226.52 183.31,-221.72\"/>\n</g>\n<!-- fc1 -->\n<g id=\"node8\" class=\"node\">\n<title>fc1</title>\n<polygon fill=\"#fdd9d9\" stroke=\"black\" points=\"217.19,-112 74.19,-112 74.19,-74 217.19,-74 217.19,-112\"/>\n<text text-anchor=\"middle\" x=\"145.69\" y=\"-96.8\" font-family=\"Times,serif\" font-size=\"14.00\">Linear(100368 → 256)</text>\n<text text-anchor=\"middle\" x=\"145.69\" y=\"-81.8\" font-family=\"Times,serif\" font-size=\"14.00\">ReLU + Dropout</text>\n</g>\n<!-- concat&#45;&gt;fc1 -->\n<g id=\"edge7\" class=\"edge\">\n<title>concat&#45;&gt;fc1</title>\n<path fill=\"none\" stroke=\"black\" d=\"M145.69,-147.99C145.69,-139.36 145.69,-130.32 145.69,-122.15\"/>\n<polygon fill=\"black\" stroke=\"black\" points=\"149.19,-122.03 145.69,-112.03 142.19,-122.03 149.19,-122.03\"/>\n</g>\n<!-- fc2 -->\n<g id=\"node9\" class=\"node\">\n<title>fc2</title>\n<polygon fill=\"#ffcccc\" stroke=\"black\" points=\"206.19,-38 85.19,-38 85.19,0 206.19,0 206.19,-38\"/>\n<text text-anchor=\"middle\" x=\"145.69\" y=\"-22.8\" font-family=\"Times,serif\" font-size=\"14.00\">Linear(256 → 2)</text>\n<text text-anchor=\"middle\" x=\"145.69\" y=\"-7.8\" font-family=\"Times,serif\" font-size=\"14.00\">Fracture Prediction</text>\n</g>\n<!-- fc1&#45;&gt;fc2 -->\n<g id=\"edge8\" class=\"edge\">\n<title>fc1&#45;&gt;fc2</title>\n<path fill=\"none\" stroke=\"black\" d=\"M145.69,-73.83C145.69,-66.13 145.69,-56.97 145.69,-48.42\"/>\n<polygon fill=\"black\" stroke=\"black\" points=\"149.19,-48.41 145.69,-38.41 142.19,-48.41 149.19,-48.41\"/>\n</g>\n</g>\n</svg>\n",
            "text/plain": [
              "<graphviz.graphs.Digraph at 0x78b2a171b650>"
            ]
          },
          "metadata": {}
        }
      ]
    },
    {
      "cell_type": "code",
      "source": [],
      "metadata": {
        "id": "m1M5pHWNLCEA"
      },
      "execution_count": null,
      "outputs": []
    }
  ]
}
