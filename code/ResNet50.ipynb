{
  "nbformat": 4,
  "nbformat_minor": 0,
  "metadata": {
    "colab": {
      "provenance": [],
      "gpuType": "T4",
      "authorship_tag": "ABX9TyOPGbX9yrVeOPuXTvk9jmj+"
    },
    "kernelspec": {
      "name": "python3",
      "display_name": "Python 3"
    },
    "language_info": {
      "name": "python"
    },
    "accelerator": "GPU"
  },
  "cells": [
    {
      "cell_type": "code",
      "execution_count": null,
      "metadata": {
        "id": "phWooWjhG823",
        "colab": {
          "base_uri": "https://localhost:8080/"
        },
        "outputId": "bf189efc-e7fa-43a6-82a2-f4b43734d093"
      },
      "outputs": [
        {
          "output_type": "stream",
          "name": "stdout",
          "text": [
            "Mounted at /content/drive\n"
          ]
        }
      ],
      "source": [
        "from google.colab import drive\n",
        "drive.mount('/content/drive')\n"
      ]
    },
    {
      "cell_type": "code",
      "source": [
        "!unzip -q \"/content/drive/MyDrive/AUEB/MURA-v1.1.zip\" -d /content/\n"
      ],
      "metadata": {
        "id": "UlaDi7qdQlAB"
      },
      "execution_count": null,
      "outputs": []
    },
    {
      "cell_type": "code",
      "source": [
        "import pandas as pd\n",
        "\n",
        "df = pd.read_csv('/content/MURA-v1.1/train_image_paths.csv')\n",
        "print(df.head())\n"
      ],
      "metadata": {
        "id": "lbe9v594Qnch",
        "colab": {
          "base_uri": "https://localhost:8080/"
        },
        "outputId": "ac2ca48a-c734-49aa-f6e7-6c9c625eedc7"
      },
      "execution_count": null,
      "outputs": [
        {
          "output_type": "stream",
          "name": "stdout",
          "text": [
            "  MURA-v1.1/train/XR_SHOULDER/patient00001/study1_positive/image1.png\n",
            "0  MURA-v1.1/train/XR_SHOULDER/patient00001/study...                 \n",
            "1  MURA-v1.1/train/XR_SHOULDER/patient00001/study...                 \n",
            "2  MURA-v1.1/train/XR_SHOULDER/patient00002/study...                 \n",
            "3  MURA-v1.1/train/XR_SHOULDER/patient00002/study...                 \n",
            "4  MURA-v1.1/train/XR_SHOULDER/patient00002/study...                 \n"
          ]
        }
      ]
    },
    {
      "cell_type": "code",
      "source": [
        "\n",
        "df_train = pd.read_csv('/content/MURA-v1.1/train_image_paths.csv')\n",
        "print(df_train.columns)\n"
      ],
      "metadata": {
        "colab": {
          "base_uri": "https://localhost:8080/"
        },
        "id": "3MPrAVjDbLW7",
        "outputId": "238f063d-2b61-492f-f845-0372e7e5abfa"
      },
      "execution_count": null,
      "outputs": [
        {
          "output_type": "stream",
          "name": "stdout",
          "text": [
            "Index(['MURA-v1.1/train/XR_SHOULDER/patient00001/study1_positive/image1.png'], dtype='object')\n"
          ]
        }
      ]
    },
    {
      "cell_type": "code",
      "source": [
        "import pandas as pd\n",
        "import os\n",
        "\n",
        "df_train = pd.read_csv('/content/MURA-v1.1/train_image_paths.csv', header=None)\n",
        "df_train.columns = ['image_path']\n",
        "df_train['path'] = df_train['image_path'].apply(lambda x: os.path.join('/content', x))\n",
        "df_train['label'] = df_train['image_path'].apply(lambda x: 1 if 'positive' in x else 0)\n",
        "df_train['body_part'] = df_train['image_path'].apply(lambda x: x.split('/')[2])  # e.g., 'XR_SHOULDER'\n"
      ],
      "metadata": {
        "id": "S0aCNYrvQnaQ"
      },
      "execution_count": null,
      "outputs": []
    },
    {
      "cell_type": "code",
      "source": [
        "from sklearn.model_selection import train_test_split\n",
        "\n",
        "# Create a stratification key combining body part + label\n",
        "df_train['stratify_group'] = df_train['body_part'] + \"_\" + df_train['label'].astype(str)\n",
        "\n",
        "# Stratified 80/20 split\n",
        "df_train_final, df_val_final = train_test_split(\n",
        "    df_train,\n",
        "    test_size=0.2,\n",
        "    random_state=42,\n",
        "    stratify=df_train['stratify_group']\n",
        ")"
      ],
      "metadata": {
        "id": "pOa1Y9ggR_XH"
      },
      "execution_count": null,
      "outputs": []
    },
    {
      "cell_type": "code",
      "source": [
        "# Dropping the helper column\n",
        "df_train_final = df_train_final.drop(columns=['stratify_group'])\n",
        "df_val_final = df_val_final.drop(columns=['stratify_group'])"
      ],
      "metadata": {
        "id": "OfULCO_aSBkP"
      },
      "execution_count": null,
      "outputs": []
    },
    {
      "cell_type": "code",
      "source": [
        "df_test = pd.read_csv('/content/MURA-v1.1/valid_image_paths.csv', header=None)\n",
        "df_test.columns = ['image_path']\n",
        "df_test['path'] = df_test['image_path'].apply(lambda x: os.path.join('/content', x))\n",
        "df_test['label'] = df_test['image_path'].apply(lambda x: 1 if 'positive' in x else 0)\n",
        "df_test['body_part'] = df_test['image_path'].apply(lambda x: x.split('/')[2])  # e.g., XR_WRIST\n"
      ],
      "metadata": {
        "id": "w74fmyciQnYI"
      },
      "execution_count": null,
      "outputs": []
    },
    {
      "cell_type": "code",
      "source": [
        "# Encode body_part as part_idx for conditioning\n",
        "body_parts = sorted(df_train_final['body_part'].unique())  # Ensure consistent order\n",
        "part_to_index = {part: idx for idx, part in enumerate(body_parts)}\n",
        "\n",
        "for df in [df_train_final, df_val_final, df_test]:\n",
        "    df['part_idx'] = df['body_part'].map(part_to_index)"
      ],
      "metadata": {
        "id": "RaBy1vdsvGn_"
      },
      "execution_count": null,
      "outputs": []
    },
    {
      "cell_type": "code",
      "source": [
        "# Distribution and Sanity Check\n",
        "\n",
        "print(\"Training set:\")\n",
        "print(df_train_final['body_part'].value_counts(normalize=True))\n",
        "\n",
        "print(\"\\nValidation set:\")\n",
        "print(df_val_final['body_part'].value_counts(normalize=True))\n"
      ],
      "metadata": {
        "id": "L9YI3eFKSGYH",
        "colab": {
          "base_uri": "https://localhost:8080/"
        },
        "outputId": "bf5bae2d-3c5c-47a9-97c3-5b9b9997406f"
      },
      "execution_count": null,
      "outputs": [
        {
          "output_type": "stream",
          "name": "stdout",
          "text": [
            "Training set:\n",
            "body_part\n",
            "XR_WRIST       0.264960\n",
            "XR_SHOULDER    0.227637\n",
            "XR_HAND        0.150581\n",
            "XR_FINGER      0.138695\n",
            "XR_ELBOW       0.133974\n",
            "XR_FOREARM     0.049582\n",
            "XR_HUMERUS     0.034572\n",
            "Name: proportion, dtype: float64\n",
            "\n",
            "Validation set:\n",
            "body_part\n",
            "XR_WRIST       0.264874\n",
            "XR_SHOULDER    0.227656\n",
            "XR_HAND        0.150638\n",
            "XR_FINGER      0.138821\n",
            "XR_ELBOW       0.133931\n",
            "XR_FOREARM     0.049579\n",
            "XR_HUMERUS     0.034501\n",
            "Name: proportion, dtype: float64\n"
          ]
        }
      ]
    },
    {
      "cell_type": "code",
      "source": [
        "from torch.utils.data import Dataset, DataLoader\n",
        "from torchvision import transforms\n",
        "from PIL import Image\n",
        "import torch\n",
        "\n",
        "\n",
        "class MuraDataset(Dataset):\n",
        "    def __init__(self, dataframe, transform=None):\n",
        "        self.df = dataframe.reset_index(drop=True)\n",
        "        self.transform = transform\n",
        "\n",
        "    def __len__(self):\n",
        "        return len(self.df)\n",
        "\n",
        "    def __getitem__(self, idx):\n",
        "        img_path = self.df.loc[idx, 'path']\n",
        "        label = self.df.loc[idx, 'label']\n",
        "        part_idx = self.df.loc[idx, 'part_idx']\n",
        "        image = Image.open(img_path).convert(\"L\")  # \"L\" = grayscale\n",
        "\n",
        "\n",
        "        if self.transform:\n",
        "            image = self.transform(image)\n",
        "\n",
        "        return image, torch.tensor(label, dtype=torch.long), torch.tensor(part_idx, dtype=torch.long)\n"
      ],
      "metadata": {
        "id": "uibKK4zQQnQw"
      },
      "execution_count": null,
      "outputs": []
    },
    {
      "cell_type": "code",
      "source": [
        "from torchvision import transforms\n",
        "\n",
        "train_transform = transforms.Compose([\n",
        "    transforms.Grayscale(num_output_channels=1),\n",
        "    transforms.Resize((224, 224)),\n",
        "    transforms.RandomHorizontalFlip(p=0.5),\n",
        "    transforms.RandomRotation(degrees=10),\n",
        "    transforms.ColorJitter(brightness=0.1, contrast=0.1),\n",
        "    transforms.ToTensor(),\n",
        "    transforms.Normalize(mean=[0.5], std=[0.5])  # for grayscale\n",
        "])\n",
        "\n",
        "val_transform = transforms.Compose([\n",
        "    transforms.Grayscale(num_output_channels=1),\n",
        "    transforms.Resize((224, 224)),\n",
        "    transforms.ToTensor(),\n",
        "    transforms.Normalize(mean=[0.5], std=[0.5])\n",
        "])\n"
      ],
      "metadata": {
        "id": "tPCRD98sQnVg"
      },
      "execution_count": null,
      "outputs": []
    },
    {
      "cell_type": "code",
      "source": [
        "from torch.utils.data import DataLoader\n",
        "\n",
        "# Train\n",
        "train_dataset = MuraDataset(df_train_final, transform=train_transform)\n",
        "train_loader = DataLoader(train_dataset, batch_size=32, shuffle=True, num_workers=2)\n",
        "\n",
        "# Validation\n",
        "val_dataset = MuraDataset(df_val_final, transform=val_transform)\n",
        "val_loader = DataLoader(val_dataset, batch_size=32, shuffle=False, num_workers=2)\n",
        "\n",
        "# Test\n",
        "test_dataset = MuraDataset(df_test, transform=val_transform)\n",
        "test_loader = DataLoader(test_dataset, batch_size=32, shuffle=False, num_workers=2)\n"
      ],
      "metadata": {
        "id": "3GiVGjyIWMDP"
      },
      "execution_count": null,
      "outputs": []
    },
    {
      "cell_type": "markdown",
      "source": [
        "## MultiTask Model"
      ],
      "metadata": {
        "id": "45vHne4B7bq0"
      }
    },
    {
      "cell_type": "code",
      "source": [
        "import torch\n",
        "import torch.nn as nn\n",
        "import torchvision.models as models\n",
        "\n",
        "class ResNet50Multitask(nn.Module):\n",
        "    def __init__(self, num_body_parts=7, embed_dim=32, pretrained=True):\n",
        "        super(ResNet50Multitask, self).__init__()\n",
        "\n",
        "        self.embed_dim = embed_dim\n",
        "\n",
        "        # Load pretrained ResNet50 backbone\n",
        "        self.backbone = models.resnet50(weights='IMAGENET1K_V1' if pretrained else None)\n",
        "\n",
        "        # Modify first conv layer to accept grayscale input\n",
        "        self.backbone.conv1 = nn.Conv2d(1, 64, kernel_size=7, stride=2, padding=3, bias=False)\n",
        "\n",
        "\n",
        "\n",
        "        # Freeze early layers\n",
        "        for param in self.backbone.parameters():\n",
        "            param.requires_grad = False\n",
        "        for name, param in self.backbone.named_parameters():\n",
        "            if \"layer4\" in name or \"fc\" in name:\n",
        "                param.requires_grad = True\n",
        "\n",
        "        # Remove the original FC layer\n",
        "        in_features = self.backbone.fc.in_features\n",
        "        self.backbone.fc = nn.Identity()\n",
        "\n",
        "        # Body part embedding (only for fracture head)\n",
        "        self.part_embed = nn.Embedding(num_body_parts, embed_dim)\n",
        "\n",
        "        # Fracture classification head (uses embedding)\n",
        "        self.fracture_head = nn.Sequential(\n",
        "            nn.Linear(in_features + embed_dim, 512),\n",
        "            nn.BatchNorm1d(512),\n",
        "            nn.ReLU(),\n",
        "            nn.Dropout(0.4),\n",
        "            nn.Linear(512, 256),\n",
        "            nn.ReLU(),\n",
        "            nn.Dropout(0.3),\n",
        "            nn.Linear(256, 2)\n",
        "        )\n",
        "\n",
        "        # Body part classification head (no embedding)\n",
        "        self.bodypart_head = nn.Sequential(\n",
        "            nn.Linear(in_features, 128),\n",
        "            nn.ReLU(),\n",
        "            nn.Dropout(0.3),\n",
        "            nn.Linear(128, num_body_parts)\n",
        "        )\n",
        "\n",
        "    def forward(self, x, part_idx):\n",
        "        features = self.backbone(x)  # shared features\n",
        "        part_embedding = self.part_embed(part_idx)\n",
        "\n",
        "        # Fracture classification: image + part embedding\n",
        "        fracture_input = torch.cat((features, part_embedding), dim=1)\n",
        "        out_fracture = self.fracture_head(fracture_input)\n",
        "\n",
        "        # Body part classification: only image features\n",
        "        out_bodypart = self.bodypart_head(features)\n",
        "\n",
        "        return out_fracture, out_bodypart\n"
      ],
      "metadata": {
        "id": "yIc2l32r7dm4"
      },
      "execution_count": null,
      "outputs": []
    },
    {
      "cell_type": "markdown",
      "source": [
        "## Define loss, optimizer, Scheduler"
      ],
      "metadata": {
        "id": "6Z_gLLMY7hHD"
      }
    },
    {
      "cell_type": "code",
      "source": [
        "import torch\n",
        "\n",
        "device = torch.device(\"cuda\" if torch.cuda.is_available() else \"cpu\")\n"
      ],
      "metadata": {
        "id": "gwHg5iD2LQgG"
      },
      "execution_count": null,
      "outputs": []
    },
    {
      "cell_type": "code",
      "source": [
        "# Use CrossEntropyLoss for both tasks\n",
        "fracture_loss_fn = nn.CrossEntropyLoss()\n",
        "bodypart_loss_fn = nn.CrossEntropyLoss()\n",
        "\n",
        "# Instantiate model\n",
        "model = ResNet50Multitask(num_body_parts=len(part_to_index)).to(device)\n",
        "\n",
        "# Optimizer and scheduler\n",
        "optimizer = torch.optim.Adam(filter(lambda p: p.requires_grad, model.parameters()), lr=1e-4)\n",
        "scheduler = torch.optim.lr_scheduler.ReduceLROnPlateau(optimizer, mode='min', patience=2, factor=0.5, verbose=True)\n"
      ],
      "metadata": {
        "id": "xgwsh6xt7g4D"
      },
      "execution_count": null,
      "outputs": []
    },
    {
      "cell_type": "markdown",
      "source": [
        "## Training and Validation Loops\n"
      ],
      "metadata": {
        "id": "8s5i7NH37m0T"
      }
    },
    {
      "cell_type": "code",
      "source": [
        "def train_one_epoch(model, loader, optimizer, fracture_loss_fn, bodypart_loss_fn):\n",
        "    model.train()\n",
        "    total_loss, correct_frac, correct_part = 0, 0, 0\n",
        "\n",
        "    for images, labels, part_idxs in loader:\n",
        "        images = images.to(device)\n",
        "        labels = labels.to(device)\n",
        "        part_idxs = part_idxs.to(device)\n",
        "\n",
        "        optimizer.zero_grad()\n",
        "        out_fracture, out_bodypart = model(images, part_idxs)\n",
        "\n",
        "        loss_fracture = fracture_loss_fn(out_fracture, labels)\n",
        "        loss_bodypart = bodypart_loss_fn(out_bodypart, part_idxs)\n",
        "        loss = loss_fracture + loss_bodypart\n",
        "\n",
        "        loss.backward()\n",
        "        optimizer.step()\n",
        "\n",
        "        total_loss += loss.item()\n",
        "        correct_frac += (out_fracture.argmax(1) == labels).sum().item()\n",
        "        correct_part += (out_bodypart.argmax(1) == part_idxs).sum().item()\n",
        "\n",
        "    n = len(loader.dataset)\n",
        "    return total_loss / len(loader), correct_frac / n, correct_part / n\n",
        "\n",
        "\n",
        "\n",
        "def validate(model, loader, fracture_loss_fn, bodypart_loss_fn):\n",
        "    model.eval()\n",
        "    total_loss, correct_frac, correct_part = 0, 0, 0\n",
        "\n",
        "    with torch.no_grad():\n",
        "        for images, labels, part_idxs in loader:\n",
        "            images = images.to(device)\n",
        "            labels = labels.to(device)\n",
        "            part_idxs = part_idxs.to(device)\n",
        "\n",
        "            out_fracture, out_bodypart = model(images, part_idxs)\n",
        "\n",
        "            loss_fracture = fracture_loss_fn(out_fracture, labels)\n",
        "            loss_bodypart = bodypart_loss_fn(out_bodypart, part_idxs)\n",
        "            loss = loss_fracture + loss_bodypart\n",
        "\n",
        "            total_loss += loss.item()\n",
        "            correct_frac += (out_fracture.argmax(1) == labels).sum().item()\n",
        "            correct_part += (out_bodypart.argmax(1) == part_idxs).sum().item()\n",
        "\n",
        "    n = len(loader.dataset)\n",
        "    return total_loss / len(loader), correct_frac / n, correct_part / n\n"
      ],
      "metadata": {
        "id": "HqueDowe7ftz"
      },
      "execution_count": null,
      "outputs": []
    },
    {
      "cell_type": "markdown",
      "source": [
        "## Training"
      ],
      "metadata": {
        "id": "IaEYHljQ7vmD"
      }
    },
    {
      "cell_type": "code",
      "source": [
        "best_val_loss = float('inf')\n",
        "early_stop_counter = 0\n",
        "early_stop_patience = 5\n",
        "epochs = 20\n",
        "\n",
        "for epoch in range(epochs):\n",
        "    train_loss, train_fracture_acc, train_part_acc = train_one_epoch(model, train_loader, optimizer, fracture_loss_fn, bodypart_loss_fn)\n",
        "    val_loss, val_fracture_acc, val_part_acc = validate(model, val_loader, fracture_loss_fn, bodypart_loss_fn)\n",
        "\n",
        "    print(f\"Epoch {epoch+1}/{epochs} | \"\n",
        "          f\"Train Loss: {train_loss:.4f}, Frac Acc: {train_fracture_acc:.4f}, Part Acc: {train_part_acc:.4f} | \"\n",
        "          f\"Val Loss: {val_loss:.4f}, Frac Acc: {val_fracture_acc:.4f}, Part Acc: {val_part_acc:.4f}\")\n",
        "\n",
        "    scheduler.step(val_loss)\n",
        "\n",
        "    if val_loss < best_val_loss:\n",
        "        best_val_loss = val_loss\n",
        "        early_stop_counter = 0\n",
        "        torch.save(model.state_dict(), \"resnet50_multitask.pt\")\n",
        "    else:\n",
        "        early_stop_counter += 1\n",
        "        print(f\"Early stop patience: {early_stop_counter}/5\")\n",
        "        if early_stop_counter >= early_stop_patience:\n",
        "            print(\"Early stopping triggered.\")\n",
        "            break\n"
      ],
      "metadata": {
        "colab": {
          "base_uri": "https://localhost:8080/"
        },
        "id": "Sb2NM1rb7vaz",
        "outputId": "7fb789b6-ea61-4ca6-a136-6f5902c9b248"
      },
      "execution_count": null,
      "outputs": [
        {
          "output_type": "stream",
          "name": "stdout",
          "text": [
            "Epoch 1/20 | Train Loss: 0.9926, Frac Acc: 0.6935, Part Acc: 0.8689 | Val Loss: 0.7388, Frac Acc: 0.7252, Part Acc: 0.9462\n",
            "Epoch 2/20 | Train Loss: 0.7212, Frac Acc: 0.7420, Part Acc: 0.9445 | Val Loss: 0.6624, Frac Acc: 0.7493, Part Acc: 0.9594\n",
            "Epoch 3/20 | Train Loss: 0.6662, Frac Acc: 0.7558, Part Acc: 0.9552 | Val Loss: 0.6278, Frac Acc: 0.7647, Part Acc: 0.9618\n",
            "Epoch 4/20 | Train Loss: 0.6299, Frac Acc: 0.7677, Part Acc: 0.9621 | Val Loss: 0.6103, Frac Acc: 0.7691, Part Acc: 0.9660\n",
            "Epoch 5/20 | Train Loss: 0.6009, Frac Acc: 0.7730, Part Acc: 0.9660 | Val Loss: 0.6124, Frac Acc: 0.7694, Part Acc: 0.9624\n",
            "Early stop patience: 1/5\n",
            "Epoch 6/20 | Train Loss: 0.5750, Frac Acc: 0.7839, Part Acc: 0.9701 | Val Loss: 0.6064, Frac Acc: 0.7774, Part Acc: 0.9664\n",
            "Epoch 7/20 | Train Loss: 0.5556, Frac Acc: 0.7884, Part Acc: 0.9734 | Val Loss: 0.5981, Frac Acc: 0.7786, Part Acc: 0.9684\n",
            "Epoch 8/20 | Train Loss: 0.5413, Frac Acc: 0.7969, Part Acc: 0.9739 | Val Loss: 0.6033, Frac Acc: 0.7745, Part Acc: 0.9670\n",
            "Early stop patience: 1/5\n",
            "Epoch 9/20 | Train Loss: 0.5199, Frac Acc: 0.8015, Part Acc: 0.9775 | Val Loss: 0.6013, Frac Acc: 0.7808, Part Acc: 0.9663\n",
            "Early stop patience: 2/5\n",
            "Epoch 10/20 | Train Loss: 0.5036, Frac Acc: 0.8094, Part Acc: 0.9787 | Val Loss: 0.5947, Frac Acc: 0.7759, Part Acc: 0.9697\n",
            "Epoch 11/20 | Train Loss: 0.4930, Frac Acc: 0.8099, Part Acc: 0.9796 | Val Loss: 0.6054, Frac Acc: 0.7794, Part Acc: 0.9656\n",
            "Early stop patience: 1/5\n",
            "Epoch 12/20 | Train Loss: 0.4766, Frac Acc: 0.8174, Part Acc: 0.9816 | Val Loss: 0.6197, Frac Acc: 0.7683, Part Acc: 0.9698\n",
            "Early stop patience: 2/5\n",
            "Epoch 13/20 | Train Loss: 0.4647, Frac Acc: 0.8217, Part Acc: 0.9829 | Val Loss: 0.6108, Frac Acc: 0.7791, Part Acc: 0.9692\n",
            "Early stop patience: 3/5\n",
            "Epoch 14/20 | Train Loss: 0.4148, Frac Acc: 0.8397, Part Acc: 0.9872 | Val Loss: 0.5987, Frac Acc: 0.7880, Part Acc: 0.9704\n",
            "Early stop patience: 4/5\n",
            "Epoch 15/20 | Train Loss: 0.3875, Frac Acc: 0.8516, Part Acc: 0.9895 | Val Loss: 0.6178, Frac Acc: 0.7895, Part Acc: 0.9713\n",
            "Early stop patience: 5/5\n",
            "Early stopping triggered.\n"
          ]
        }
      ]
    },
    {
      "cell_type": "markdown",
      "source": [
        "## Evaluation Fracture"
      ],
      "metadata": {
        "id": "rZsxLMpf8Lnr"
      }
    },
    {
      "cell_type": "code",
      "source": [
        "from sklearn.metrics import classification_report, roc_auc_score, cohen_kappa_score\n",
        "\n",
        "def evaluate_fracture_task(model, test_loader):\n",
        "    model.eval()\n",
        "    all_labels = []\n",
        "    all_preds = []\n",
        "    all_probs = []\n",
        "\n",
        "    with torch.no_grad():\n",
        "        for images, labels, part_idxs in test_loader:\n",
        "            images = images.to(device)\n",
        "            labels = labels.to(device)\n",
        "            part_idxs = part_idxs.to(device)\n",
        "\n",
        "            out_fracture, _ = model(images, part_idxs)\n",
        "\n",
        "            probs = torch.softmax(out_fracture, dim=1)[:, 1].cpu().numpy()\n",
        "            preds = out_fracture.argmax(dim=1).cpu().numpy()\n",
        "\n",
        "            all_labels.extend(labels.cpu().numpy())\n",
        "            all_preds.extend(preds)\n",
        "            all_probs.extend(probs)\n",
        "\n",
        "    print(\"Fracture Classification Report:\")\n",
        "    print(classification_report(all_labels, all_preds, digits=4))\n",
        "    print(\"ROC AUC Score:\", roc_auc_score(all_labels, all_probs))\n",
        "    print(\"Cohen's Kappa Score:\", cohen_kappa_score(all_labels, all_preds))\n"
      ],
      "metadata": {
        "id": "hjDTrftR8MEb"
      },
      "execution_count": null,
      "outputs": []
    },
    {
      "cell_type": "markdown",
      "source": [
        "## Evaluation Body Part"
      ],
      "metadata": {
        "id": "yidwOXqs8Txz"
      }
    },
    {
      "cell_type": "code",
      "source": [
        "def evaluate_bodypart_task(model, loader, index_to_part=None):\n",
        "    model.eval()\n",
        "    all_parts = []\n",
        "    all_preds = []\n",
        "\n",
        "    with torch.no_grad():\n",
        "        for images, _, part_idxs in loader:\n",
        "            images = images.to(device)\n",
        "            part_idxs = part_idxs.to(device)\n",
        "\n",
        "            _, out_bodypart = model(images, part_idxs)\n",
        "            preds = out_bodypart.argmax(dim=1).cpu().numpy()\n",
        "            all_preds.extend(preds)\n",
        "            all_parts.extend(part_idxs.cpu().numpy())\n",
        "\n",
        "    print(\"\\n--- Body Part Classification Report ---\")\n",
        "    if index_to_part:\n",
        "        target_names = [index_to_part[i] for i in sorted(set(all_parts))]\n",
        "    else:\n",
        "        target_names = None\n",
        "\n",
        "    print(classification_report(all_parts, all_preds, target_names=target_names, digits=4))\n"
      ],
      "metadata": {
        "id": "IL1uywzz8Uaa"
      },
      "execution_count": null,
      "outputs": []
    },
    {
      "cell_type": "code",
      "source": [
        "# In case it's not already defined in current scope\n",
        "index_to_part = {v: k for k, v in part_to_index.items()}\n",
        "\n",
        "# Load model\n",
        "model.load_state_dict(torch.load(\"resnet50_multitask.pt\"))\n",
        "\n",
        "# Evaluate fracture classification and body part classification\n",
        "evaluate_fracture_task(model, test_loader)\n",
        "evaluate_bodypart_task(model, test_loader, index_to_part=index_to_part)\n"
      ],
      "metadata": {
        "colab": {
          "base_uri": "https://localhost:8080/"
        },
        "id": "EJ4zAb588UYj",
        "outputId": "714f3b95-6bd2-4833-9318-5590723209e6"
      },
      "execution_count": null,
      "outputs": [
        {
          "output_type": "stream",
          "name": "stdout",
          "text": [
            "Fracture Classification Report:\n",
            "              precision    recall  f1-score   support\n",
            "\n",
            "           0     0.6967    0.9244    0.7945      1667\n",
            "           1     0.8721    0.5614    0.6831      1530\n",
            "\n",
            "    accuracy                         0.7507      3197\n",
            "   macro avg     0.7844    0.7429    0.7388      3197\n",
            "weighted avg     0.7806    0.7507    0.7412      3197\n",
            "\n",
            "ROC AUC Score: 0.8237497598519511\n",
            "Cohen's Kappa Score: 0.4930702268343562\n",
            "\n",
            "--- Body Part Classification Report ---\n",
            "              precision    recall  f1-score   support\n",
            "\n",
            "    XR_ELBOW     0.9131    0.9720    0.9417       465\n",
            "   XR_FINGER     0.9411    0.9696    0.9551       461\n",
            "  XR_FOREARM     0.9101    0.8405    0.8739       301\n",
            "     XR_HAND     0.9649    0.9565    0.9607       460\n",
            "  XR_HUMERUS     0.9810    0.8958    0.9365       288\n",
            " XR_SHOULDER     0.9807    0.9911    0.9859       563\n",
            "    XR_WRIST     0.9667    0.9697    0.9682       659\n",
            "\n",
            "    accuracy                         0.9531      3197\n",
            "   macro avg     0.9511    0.9422    0.9460      3197\n",
            "weighted avg     0.9534    0.9531    0.9527      3197\n",
            "\n"
          ]
        }
      ]
    },
    {
      "cell_type": "markdown",
      "source": [
        "# Visuals"
      ],
      "metadata": {
        "id": "jxcJ3B4Rl2sx"
      }
    },
    {
      "cell_type": "code",
      "source": [
        "from graphviz import Digraph\n",
        "\n",
        "def resnet50_multitask_architecture():\n",
        "    dot = Digraph(comment='ResNet50 Multi-task Architecture')\n",
        "    dot.attr(rankdir='TB', splines='spline', nodesep='0.6', ranksep='0.5')\n",
        "\n",
        "    # Input & Part index\n",
        "    dot.node('input', 'Input Image\\n(224×224)', shape='ellipse', style='filled', fillcolor='#DDEEFF')\n",
        "    dot.node('part_idx', 'Body Part Index\\n(int)', shape='ellipse', style='filled', fillcolor='#DDEEFF')\n",
        "\n",
        "    # Image path\n",
        "    dot.node('conv', 'Conv2d(1 → 64)', shape='box', style='filled', fillcolor='#A3C1DA')\n",
        "    dot.node('resnet', 'ResNet50 Backbone\\n(frozen except layer4)', shape='box', style='filled', fillcolor='#A3C1DA')\n",
        "    dot.node('gap', 'Global Avg Pool\\n→ (B, 2048)', shape='box', style='filled', fillcolor='#A3C1DA')\n",
        "\n",
        "    # Embedding path\n",
        "    dot.node('embed', 'Embedding Layer\\n(num_parts → 32)', shape='box', style='filled', fillcolor='#C7E9C0')\n",
        "\n",
        "    # Part prediction\n",
        "    dot.node('body_fc1', 'Linear(2048 → 128)\\nReLU + Dropout', shape='box', style='filled', fillcolor='#FDD9D9')\n",
        "    dot.node('body_fc2', 'Linear(128 → 7)\\nPart Output', shape='box', style='filled', fillcolor='#FFCCCC')\n",
        "\n",
        "    # Merge\n",
        "    dot.node('concat', 'Concatenate\\n[Features + Part Embedding]', shape='diamond', style='filled', fillcolor='#FBE8A6')\n",
        "\n",
        "    # Fracture classification head\n",
        "    dot.node('fracture_fc1', 'Linear(2080 → 512)\\nBN + ReLU + Dropout', shape='box', style='filled', fillcolor='#FDD9D9')\n",
        "    dot.node('fracture_fc2', 'Linear(512 → 256)\\nReLU + Dropout', shape='box', style='filled', fillcolor='#FDD9D9')\n",
        "    dot.node('fracture_fc3', 'Linear(256 → 2)\\nFracture Output', shape='box', style='filled', fillcolor='#FFCCCC')\n",
        "\n",
        "    # Connections\n",
        "    dot.edge('input', 'conv')\n",
        "    dot.edge('conv', 'resnet')\n",
        "    dot.edge('resnet', 'gap')\n",
        "    dot.edge('gap', 'body_fc1')\n",
        "    dot.edge('body_fc1', 'body_fc2')\n",
        "    dot.edge('gap', 'concat')\n",
        "    dot.edge('part_idx', 'embed')\n",
        "    dot.edge('embed', 'concat')\n",
        "    dot.edge('concat', 'fracture_fc1')\n",
        "    dot.edge('fracture_fc1', 'fracture_fc2')\n",
        "    dot.edge('fracture_fc2', 'fracture_fc3')\n",
        "\n",
        "    return dot\n",
        "\n",
        "# Generate and view\n",
        "resnet_diagram = resnet50_multitask_architecture()\n",
        "resnet_diagram.render(filename='resnet50_multitask_architecture', format='png', cleanup=False)\n",
        "resnet_diagram.view()\n"
      ],
      "metadata": {
        "id": "EXoK-w4CINrZ",
        "outputId": "df05d671-67ff-4247-8c6c-b952bc1e526f",
        "colab": {
          "base_uri": "https://localhost:8080/",
          "height": 36
        }
      },
      "execution_count": null,
      "outputs": [
        {
          "output_type": "execute_result",
          "data": {
            "text/plain": [
              "'resnet50_multitask_architecture.pdf'"
            ],
            "application/vnd.google.colaboratory.intrinsic+json": {
              "type": "string"
            }
          },
          "metadata": {},
          "execution_count": 1
        }
      ]
    },
    {
      "cell_type": "code",
      "source": [
        "display(resnet_diagram)"
      ],
      "metadata": {
        "id": "vV-Bd54zbd49",
        "outputId": "22a31193-05ac-47f4-86d0-71c05cc357ab",
        "colab": {
          "base_uri": "https://localhost:8080/",
          "height": 863
        }
      },
      "execution_count": null,
      "outputs": [
        {
          "output_type": "display_data",
          "data": {
            "image/svg+xml": "<?xml version=\"1.0\" encoding=\"UTF-8\" standalone=\"no\"?>\n<!DOCTYPE svg PUBLIC \"-//W3C//DTD SVG 1.1//EN\"\n \"http://www.w3.org/Graphics/SVG/1.1/DTD/svg11.dtd\">\n<!-- Generated by graphviz version 2.43.0 (0)\n -->\n<!-- Title: %3 Pages: 1 -->\n<svg width=\"533pt\" height=\"631pt\"\n viewBox=\"0.00 0.00 533.00 631.48\" xmlns=\"http://www.w3.org/2000/svg\" xmlns:xlink=\"http://www.w3.org/1999/xlink\">\n<g id=\"graph0\" class=\"graph\" transform=\"scale(1 1) rotate(0) translate(4 627.48)\">\n<title>%3</title>\n<polygon fill=\"white\" stroke=\"transparent\" points=\"-4,4 -4,-627.48 529,-627.48 529,4 -4,4\"/>\n<!-- input -->\n<g id=\"node1\" class=\"node\">\n<title>input</title>\n<ellipse fill=\"#ddeeff\" stroke=\"black\" cx=\"114\" cy=\"-596.61\" rx=\"58.88\" ry=\"26.74\"/>\n<text text-anchor=\"middle\" x=\"114\" y=\"-600.41\" font-family=\"Times,serif\" font-size=\"14.00\">Input Image</text>\n<text text-anchor=\"middle\" x=\"114\" y=\"-585.41\" font-family=\"Times,serif\" font-size=\"14.00\">(224×224)</text>\n</g>\n<!-- conv -->\n<g id=\"node3\" class=\"node\">\n<title>conv</title>\n<polygon fill=\"#a3c1da\" stroke=\"black\" points=\"169,-533.74 59,-533.74 59,-497.74 169,-497.74 169,-533.74\"/>\n<text text-anchor=\"middle\" x=\"114\" y=\"-512.04\" font-family=\"Times,serif\" font-size=\"14.00\">Conv2d(1 → 64)</text>\n</g>\n<!-- input&#45;&gt;conv -->\n<g id=\"edge1\" class=\"edge\">\n<title>input&#45;&gt;conv</title>\n<path fill=\"none\" stroke=\"black\" d=\"M114,-569.35C114,-561.25 114,-552.31 114,-544.13\"/>\n<polygon fill=\"black\" stroke=\"black\" points=\"117.5,-543.96 114,-533.96 110.5,-543.96 117.5,-543.96\"/>\n</g>\n<!-- part_idx -->\n<g id=\"node2\" class=\"node\">\n<title>part_idx</title>\n<ellipse fill=\"#ddeeff\" stroke=\"black\" cx=\"349\" cy=\"-434.87\" rx=\"74.91\" ry=\"26.74\"/>\n<text text-anchor=\"middle\" x=\"349\" y=\"-438.67\" font-family=\"Times,serif\" font-size=\"14.00\">Body Part Index</text>\n<text text-anchor=\"middle\" x=\"349\" y=\"-423.67\" font-family=\"Times,serif\" font-size=\"14.00\">(int)</text>\n</g>\n<!-- embed -->\n<g id=\"node6\" class=\"node\">\n<title>embed</title>\n<polygon fill=\"#c7e9c0\" stroke=\"black\" points=\"408.5,-372 289.5,-372 289.5,-334 408.5,-334 408.5,-372\"/>\n<text text-anchor=\"middle\" x=\"349\" y=\"-356.8\" font-family=\"Times,serif\" font-size=\"14.00\">Embedding Layer</text>\n<text text-anchor=\"middle\" x=\"349\" y=\"-341.8\" font-family=\"Times,serif\" font-size=\"14.00\">(num_parts → 32)</text>\n</g>\n<!-- part_idx&#45;&gt;embed -->\n<g id=\"edge7\" class=\"edge\">\n<title>part_idx&#45;&gt;embed</title>\n<path fill=\"none\" stroke=\"black\" d=\"M349,-407.72C349,-399.53 349,-390.46 349,-382.14\"/>\n<polygon fill=\"black\" stroke=\"black\" points=\"352.5,-382.12 349,-372.12 345.5,-382.12 352.5,-382.12\"/>\n</g>\n<!-- resnet -->\n<g id=\"node4\" class=\"node\">\n<title>resnet</title>\n<polygon fill=\"#a3c1da\" stroke=\"black\" points=\"182.5,-453.87 45.5,-453.87 45.5,-415.87 182.5,-415.87 182.5,-453.87\"/>\n<text text-anchor=\"middle\" x=\"114\" y=\"-438.67\" font-family=\"Times,serif\" font-size=\"14.00\">ResNet50 Backbone</text>\n<text text-anchor=\"middle\" x=\"114\" y=\"-423.67\" font-family=\"Times,serif\" font-size=\"14.00\">(frozen except layer4)</text>\n</g>\n<!-- conv&#45;&gt;resnet -->\n<g id=\"edge2\" class=\"edge\">\n<title>conv&#45;&gt;resnet</title>\n<path fill=\"none\" stroke=\"black\" d=\"M114,-497.63C114,-487.88 114,-475.41 114,-464.24\"/>\n<polygon fill=\"black\" stroke=\"black\" points=\"117.5,-464.05 114,-454.05 110.5,-464.05 117.5,-464.05\"/>\n</g>\n<!-- gap -->\n<g id=\"node5\" class=\"node\">\n<title>gap</title>\n<polygon fill=\"#a3c1da\" stroke=\"black\" points=\"167.5,-372 60.5,-372 60.5,-334 167.5,-334 167.5,-372\"/>\n<text text-anchor=\"middle\" x=\"114\" y=\"-356.8\" font-family=\"Times,serif\" font-size=\"14.00\">Global Avg Pool</text>\n<text text-anchor=\"middle\" x=\"114\" y=\"-341.8\" font-family=\"Times,serif\" font-size=\"14.00\">→ (B, 2048)</text>\n</g>\n<!-- resnet&#45;&gt;gap -->\n<g id=\"edge3\" class=\"edge\">\n<title>resnet&#45;&gt;gap</title>\n<path fill=\"none\" stroke=\"black\" d=\"M114,-415.75C114,-405.84 114,-393.35 114,-382.2\"/>\n<polygon fill=\"black\" stroke=\"black\" points=\"117.5,-382.05 114,-372.05 110.5,-382.05 117.5,-382.05\"/>\n</g>\n<!-- body_fc1 -->\n<g id=\"node7\" class=\"node\">\n<title>body_fc1</title>\n<polygon fill=\"#fdd9d9\" stroke=\"black\" points=\"130,-279 0,-279 0,-241 130,-241 130,-279\"/>\n<text text-anchor=\"middle\" x=\"65\" y=\"-263.8\" font-family=\"Times,serif\" font-size=\"14.00\">Linear(2048 → 128)</text>\n<text text-anchor=\"middle\" x=\"65\" y=\"-248.8\" font-family=\"Times,serif\" font-size=\"14.00\">ReLU + Dropout</text>\n</g>\n<!-- gap&#45;&gt;body_fc1 -->\n<g id=\"edge4\" class=\"edge\">\n<title>gap&#45;&gt;body_fc1</title>\n<path fill=\"none\" stroke=\"black\" d=\"M104.08,-333.58C97.06,-320.55 87.53,-302.85 79.64,-288.19\"/>\n<polygon fill=\"black\" stroke=\"black\" points=\"82.56,-286.22 74.73,-279.08 76.39,-289.54 82.56,-286.22\"/>\n</g>\n<!-- concat -->\n<g id=\"node9\" class=\"node\">\n<title>concat</title>\n<polygon fill=\"#fbe8a6\" stroke=\"black\" points=\"349,-298 173,-260 349,-222 525,-260 349,-298\"/>\n<text text-anchor=\"middle\" x=\"349\" y=\"-263.8\" font-family=\"Times,serif\" font-size=\"14.00\">Concatenate</text>\n<text text-anchor=\"middle\" x=\"349\" y=\"-248.8\" font-family=\"Times,serif\" font-size=\"14.00\">[Features + Part Embedding]</text>\n</g>\n<!-- gap&#45;&gt;concat -->\n<g id=\"edge6\" class=\"edge\">\n<title>gap&#45;&gt;concat</title>\n<path fill=\"none\" stroke=\"black\" d=\"M160.71,-333.91C194.15,-320.96 239.79,-303.29 277.75,-288.59\"/>\n<polygon fill=\"black\" stroke=\"black\" points=\"279.17,-291.79 287.23,-284.92 276.64,-285.27 279.17,-291.79\"/>\n</g>\n<!-- embed&#45;&gt;concat -->\n<g id=\"edge8\" class=\"edge\">\n<title>embed&#45;&gt;concat</title>\n<path fill=\"none\" stroke=\"black\" d=\"M349,-333.58C349,-326.19 349,-317.29 349,-308.3\"/>\n<polygon fill=\"black\" stroke=\"black\" points=\"352.5,-308.19 349,-298.19 345.5,-308.19 352.5,-308.19\"/>\n</g>\n<!-- body_fc2 -->\n<g id=\"node8\" class=\"node\">\n<title>body_fc2</title>\n<polygon fill=\"#ffcccc\" stroke=\"black\" points=\"120,-186 10,-186 10,-148 120,-148 120,-186\"/>\n<text text-anchor=\"middle\" x=\"65\" y=\"-170.8\" font-family=\"Times,serif\" font-size=\"14.00\">Linear(128 → 7)</text>\n<text text-anchor=\"middle\" x=\"65\" y=\"-155.8\" font-family=\"Times,serif\" font-size=\"14.00\">Part Output</text>\n</g>\n<!-- body_fc1&#45;&gt;body_fc2 -->\n<g id=\"edge5\" class=\"edge\">\n<title>body_fc1&#45;&gt;body_fc2</title>\n<path fill=\"none\" stroke=\"black\" d=\"M65,-240.58C65,-227.92 65,-210.86 65,-196.45\"/>\n<polygon fill=\"black\" stroke=\"black\" points=\"68.5,-196.08 65,-186.08 61.5,-196.08 68.5,-196.08\"/>\n</g>\n<!-- fracture_fc1 -->\n<g id=\"node10\" class=\"node\">\n<title>fracture_fc1</title>\n<polygon fill=\"#fdd9d9\" stroke=\"black\" points=\"421.5,-186 276.5,-186 276.5,-148 421.5,-148 421.5,-186\"/>\n<text text-anchor=\"middle\" x=\"349\" y=\"-170.8\" font-family=\"Times,serif\" font-size=\"14.00\">Linear(2080 → 512)</text>\n<text text-anchor=\"middle\" x=\"349\" y=\"-155.8\" font-family=\"Times,serif\" font-size=\"14.00\">BN + ReLU + Dropout</text>\n</g>\n<!-- concat&#45;&gt;fracture_fc1 -->\n<g id=\"edge9\" class=\"edge\">\n<title>concat&#45;&gt;fracture_fc1</title>\n<path fill=\"none\" stroke=\"black\" d=\"M349,-221.99C349,-213.36 349,-204.32 349,-196.15\"/>\n<polygon fill=\"black\" stroke=\"black\" points=\"352.5,-196.03 349,-186.03 345.5,-196.03 352.5,-196.03\"/>\n</g>\n<!-- fracture_fc2 -->\n<g id=\"node11\" class=\"node\">\n<title>fracture_fc2</title>\n<polygon fill=\"#fdd9d9\" stroke=\"black\" points=\"410.5,-112 287.5,-112 287.5,-74 410.5,-74 410.5,-112\"/>\n<text text-anchor=\"middle\" x=\"349\" y=\"-96.8\" font-family=\"Times,serif\" font-size=\"14.00\">Linear(512 → 256)</text>\n<text text-anchor=\"middle\" x=\"349\" y=\"-81.8\" font-family=\"Times,serif\" font-size=\"14.00\">ReLU + Dropout</text>\n</g>\n<!-- fracture_fc1&#45;&gt;fracture_fc2 -->\n<g id=\"edge10\" class=\"edge\">\n<title>fracture_fc1&#45;&gt;fracture_fc2</title>\n<path fill=\"none\" stroke=\"black\" d=\"M349,-147.83C349,-140.13 349,-130.97 349,-122.42\"/>\n<polygon fill=\"black\" stroke=\"black\" points=\"352.5,-122.41 349,-112.41 345.5,-122.41 352.5,-122.41\"/>\n</g>\n<!-- fracture_fc3 -->\n<g id=\"node12\" class=\"node\">\n<title>fracture_fc3</title>\n<polygon fill=\"#ffcccc\" stroke=\"black\" points=\"404,-38 294,-38 294,0 404,0 404,-38\"/>\n<text text-anchor=\"middle\" x=\"349\" y=\"-22.8\" font-family=\"Times,serif\" font-size=\"14.00\">Linear(256 → 2)</text>\n<text text-anchor=\"middle\" x=\"349\" y=\"-7.8\" font-family=\"Times,serif\" font-size=\"14.00\">Fracture Output</text>\n</g>\n<!-- fracture_fc2&#45;&gt;fracture_fc3 -->\n<g id=\"edge11\" class=\"edge\">\n<title>fracture_fc2&#45;&gt;fracture_fc3</title>\n<path fill=\"none\" stroke=\"black\" d=\"M349,-73.83C349,-66.13 349,-56.97 349,-48.42\"/>\n<polygon fill=\"black\" stroke=\"black\" points=\"352.5,-48.41 349,-38.41 345.5,-48.41 352.5,-48.41\"/>\n</g>\n</g>\n</svg>\n",
            "text/plain": [
              "<graphviz.graphs.Digraph at 0x7acd31ebf390>"
            ]
          },
          "metadata": {}
        }
      ]
    }
  ]
}
